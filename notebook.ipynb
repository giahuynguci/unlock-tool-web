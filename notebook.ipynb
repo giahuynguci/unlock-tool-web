{
 "cells": [
  {
   "metadata": {},
   "cell_type": "markdown",
   "source": [
    "# This is a sample Jupyter Notebook\n",
    "\n",
    "Below is an example of a code cell. \n",
    "Put your cursor into the cell and press Shift+Enter to execute it and select the next one, or click 'Run Cell' button.\n",
    "\n",
    "Press Double Shift to search everywhere for classes, files, tool windows, actions, and settings.\n",
    "\n",
    "To learn more about Jupyter Notebooks in PyCharm, see [help](https://www.jetbrains.com/help/pycharm/ipython-notebook-support.html).\n",
    "For an overview of PyCharm, go to Help -> Learn IDE features or refer to [our documentation](https://www.jetbrains.com/help/pycharm/getting-started.html)."
   ],
   "id": "8a77807f92f26ee"
  },
  {
   "metadata": {
    "ExecuteTime": {
     "end_time": "2025-09-01T15:55:46.694873Z",
     "start_time": "2025-09-01T15:55:46.563118Z"
    }
   },
   "cell_type": "code",
   "source": [
    "# append_values.py\n",
    "from pathlib import Path\n",
    "import re\n",
    "\n",
    "# File lưu trữ danh sách (cùng thư mục với script)\n",
    "STORE = Path(__file__).with_name(\"values_store.txt\")\n",
    "\n",
    "def load_values():\n",
    "    if not STORE.exists():\n",
    "        return []\n",
    "    text = STORE.read_text(encoding=\"utf-8\")\n",
    "    # Cho phép lưu trước đó bằng newline hoặc ;\n",
    "    parts = re.split(r'[;\\n\\r]+', text)\n",
    "    seen = set()\n",
    "    values = []\n",
    "    for p in parts:\n",
    "        v = p.strip()\n",
    "        if v and v not in seen:\n",
    "            seen.add(v)\n",
    "            values.append(v)\n",
    "    return values\n",
    "\n",
    "def save_values(values):\n",
    "    # Lưu mỗi value một dòng cho dễ đọc/sửa\n",
    "    STORE.write_text(\"\\n\".join(values), encoding=\"utf-8\")\n",
    "\n",
    "def add_values(user_input: str):\n",
    "    values = load_values()\n",
    "    seen = set(values)\n",
    "    # Cho phép nhập nhiều value: cách nhau bằng khoảng trắng, dấu phẩy hoặc ;\n",
    "    new_parts = re.split(r'[,\\s;]+', user_input)\n",
    "    added = []\n",
    "    for part in new_parts:\n",
    "        v = part.strip()\n",
    "        if not v:\n",
    "            continue\n",
    "        if \";\" in v:\n",
    "            # Tránh value có chứa ; (vì ; dùng làm dấu nối)\n",
    "            print(f\"Bỏ qua giá trị có dấu ';': {v}\")\n",
    "            continue\n",
    "        if v not in seen:\n",
    "            values.append(v)\n",
    "            seen.add(v)\n",
    "            added.append(v)\n",
    "    save_values(values)\n",
    "    return values, added\n",
    "\n",
    "def main():\n",
    "    print(\"Nhập 1 hoặc nhiều value (phân tách bởi khoảng trắng, dấu phẩy hoặc ;).\")\n",
    "    print(\"Gõ CLEAR để xoá danh sách; Enter trống để chỉ in kết quả hiện có.\")\n",
    "    user = input(\"Value: \").strip()\n",
    "\n",
    "    if user.upper() == \"CLEAR\":\n",
    "        save_values([])\n",
    "        print(\"Đã xoá danh sách. (kết quả hiện trống)\")\n",
    "        return\n",
    "\n",
    "    if user:\n",
    "        all_values, added = add_values(user)\n",
    "        if added:\n",
    "            print(f\"Đã thêm: {', '.join(added)}\")\n",
    "        else:\n",
    "            print(\"Không có giá trị mới (toàn bộ đều trùng).\")\n",
    "    else:\n",
    "        all_values = load_values()\n",
    "\n",
    "    print(\"Kết quả ghép bằng dấu ';':\")\n",
    "    print(\";\".join(all_values))\n",
    "\n",
    "if __name__ == \"__main__\":\n",
    "    main()\n"
   ],
   "id": "fbc121e30a2defb3",
   "outputs": [
    {
     "ename": "NameError",
     "evalue": "name '__file__' is not defined",
     "output_type": "error",
     "traceback": [
      "\u001B[0;31m---------------------------------------------------------------------------\u001B[0m",
      "\u001B[0;31mNameError\u001B[0m                                 Traceback (most recent call last)",
      "Cell \u001B[0;32mIn[1], line 6\u001B[0m\n\u001B[1;32m      3\u001B[0m \u001B[38;5;28;01mimport\u001B[39;00m\u001B[38;5;250m \u001B[39m\u001B[38;5;21;01mre\u001B[39;00m\n\u001B[1;32m      5\u001B[0m \u001B[38;5;66;03m# File lưu trữ danh sách (cùng thư mục với script)\u001B[39;00m\n\u001B[0;32m----> 6\u001B[0m STORE \u001B[38;5;241m=\u001B[39m Path(\u001B[38;5;18;43m__file__\u001B[39;49m)\u001B[38;5;241m.\u001B[39mwith_name(\u001B[38;5;124m\"\u001B[39m\u001B[38;5;124mvalues_store.txt\u001B[39m\u001B[38;5;124m\"\u001B[39m)\n\u001B[1;32m      8\u001B[0m \u001B[38;5;28;01mdef\u001B[39;00m\u001B[38;5;250m \u001B[39m\u001B[38;5;21mload_values\u001B[39m():\n\u001B[1;32m      9\u001B[0m     \u001B[38;5;28;01mif\u001B[39;00m \u001B[38;5;129;01mnot\u001B[39;00m STORE\u001B[38;5;241m.\u001B[39mexists():\n",
      "\u001B[0;31mNameError\u001B[0m: name '__file__' is not defined"
     ]
    }
   ],
   "execution_count": 1
  }
 ],
 "metadata": {
  "kernelspec": {
   "display_name": "Python 3",
   "language": "python",
   "name": "python3"
  },
  "language_info": {
   "codemirror_mode": {
    "name": "ipython",
    "version": 2
   },
   "file_extension": ".py",
   "mimetype": "text/x-python",
   "name": "python",
   "nbconvert_exporter": "python",
   "pygments_lexer": "ipython2",
   "version": "2.7.6"
  }
 },
 "nbformat": 4,
 "nbformat_minor": 5
}
